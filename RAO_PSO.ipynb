{
  "nbformat": 4,
  "nbformat_minor": 0,
  "metadata": {
    "colab": {
      "provenance": [],
      "authorship_tag": "ABX9TyNQtte9SENjGHXzwyI7vmWs",
      "include_colab_link": true
    },
    "kernelspec": {
      "name": "python3",
      "display_name": "Python 3"
    },
    "language_info": {
      "name": "python"
    }
  },
  "cells": [
    {
      "cell_type": "markdown",
      "metadata": {
        "id": "view-in-github",
        "colab_type": "text"
      },
      "source": [
        "<a href=\"https://colab.research.google.com/github/mheuristicsApps/An-overview-of-fundamentals-and-applications-of-Particle-Swarm-Optimization/blob/main/RAO_PSO.ipynb\" target=\"_parent\"><img src=\"https://colab.research.google.com/assets/colab-badge.svg\" alt=\"Open In Colab\"/></a>"
      ]
    },
    {
      "cell_type": "markdown",
      "source": [
        "Hybridation of PSO with RAO algorithm"
      ],
      "metadata": {
        "id": "U8ps1d2u5r_N"
      }
    },
    {
      "cell_type": "code",
      "execution_count": 1,
      "metadata": {
        "colab": {
          "base_uri": "https://localhost:8080/"
        },
        "id": "qjwV_l0YvoLP",
        "outputId": "ed5c7cdb-db30-47da-fba0-40399dd3014f"
      },
      "outputs": [
        {
          "output_type": "stream",
          "name": "stdout",
          "text": [
            "Global best position: [1.08441714e-07 1.60675042e-08]\n",
            "Global best fitness: 1.2017769941689121e-14\n"
          ]
        }
      ],
      "source": [
        "import random\n",
        "import numpy as np\n",
        "\n",
        "# define the objective function to be optimized\n",
        "def objective_function(x):\n",
        "    return np.sum(x ** 2)\n",
        "\n",
        "# set the PSO parameters\n",
        "num_particles = 20\n",
        "max_iterations = 100\n",
        "w = 0.7\n",
        "c1 = 1.4\n",
        "c2 = 1.4\n",
        "a = 0.1\n",
        "\n",
        "# initialize the swarm with random particles\n",
        "particles = np.random.uniform(-5.0, 5.0, (num_particles, 2))\n",
        "velocities = np.zeros((num_particles, 2))\n",
        "personal_best_positions = particles.copy()\n",
        "global_best_position = particles[0].copy()\n",
        "global_best_fitness = objective_function(global_best_position)\n",
        "\n",
        "# run the PSO algorithm\n",
        "for iteration in range(max_iterations):\n",
        "    # update the velocities of the particles\n",
        "    r1 = np.random.rand(num_particles, 2)\n",
        "    r2 = np.random.rand(num_particles, 2)\n",
        "    r3 = np.random.rand(2)\n",
        "    velocities = w * velocities + \\\n",
        "                 c1 * r1 * (personal_best_positions - particles) + \\\n",
        "                 c2 * r2 * (global_best_position - particles) + \\\n",
        "                 a * r3 * (np.array([global_best_position for i in range(num_particles)]) - particles)\n",
        "    \n",
        "    # update the positions of the particles\n",
        "    particles = particles + velocities\n",
        "    \n",
        "    # evaluate the fitness of each particle\n",
        "    fitness = np.array([objective_function(p) for p in particles])\n",
        "    \n",
        "    # update the personal best positions of each particle\n",
        "    mask = fitness < objective_function(personal_best_positions)\n",
        "    personal_best_positions[mask] = particles[mask]\n",
        "    \n",
        "    # update the global best position\n",
        "    index = np.argmin(fitness)\n",
        "    if fitness[index] < global_best_fitness:\n",
        "        global_best_fitness = fitness[index]\n",
        "        global_best_position = particles[index].copy()\n",
        "    \n",
        "    # apply the RAO algorithm\n",
        "    rao_solution = np.random.uniform(-5.0, 5.0, 2)\n",
        "    rao_fitness = objective_function(rao_solution)\n",
        "    if rao_fitness < global_best_fitness:\n",
        "        global_best_fitness = rao_fitness\n",
        "        global_best_position = rao_solution.copy()\n",
        "\n",
        "# print the final result\n",
        "print(\"Global best position:\", global_best_position)\n",
        "print(\"Global best fitness:\", global_best_fitness)\n"
      ]
    }
  ]
}
{
  "nbformat": 4,
  "nbformat_minor": 0,
  "metadata": {
    "colab": {
      "provenance": [],
      "authorship_tag": "ABX9TyP8SPl2wsbIfnK9gIvLKXNL",
      "include_colab_link": true
    },
    "kernelspec": {
      "name": "python3",
      "display_name": "Python 3"
    },
    "language_info": {
      "name": "python"
    }
  },
  "cells": [
    {
      "cell_type": "markdown",
      "metadata": {
        "id": "view-in-github",
        "colab_type": "text"
      },
      "source": [
        "<a href=\"https://colab.research.google.com/github/mheuristicsApps/An-overview-of-fundamentals-and-applications-of-Particle-Swarm-Optimization/blob/main/PSO_gradient.ipynb\" target=\"_parent\"><img src=\"https://colab.research.google.com/assets/colab-badge.svg\" alt=\"Open In Colab\"/></a>"
      ]
    },
    {
      "cell_type": "code",
      "execution_count": 2,
      "metadata": {
        "colab": {
          "base_uri": "https://localhost:8080/",
          "height": 484
        },
        "id": "PDN8AGMA5nxe",
        "outputId": "49b4ed5d-af62-48a2-8085-51465a28f0eb"
      },
      "outputs": [
        {
          "output_type": "display_data",
          "data": {
            "text/plain": [
              "<Figure size 640x480 with 1 Axes>"
            ],
            "image/png": "[encoded data removed]"
          },
          "metadata": {}
        },
        {
          "output_type": "stream",
          "name": "stdout",
          "text": [
            "Best Position: [1.17791858e-10 9.19350054e-10]\n",
            "Best Value: 0.0\n"
          ]
        }
      ],
      "source": [
        "import numpy as np\n",
        "import matplotlib.pyplot as plt\n",
        "\n",
        "class HybridPSO:\n",
        "    def __init__(self, n_particles, n_dimensions, objective_function, learning_rate, max_iterations):\n",
        "        self.n_particles = n_particles\n",
        "        self.n_dimensions = n_dimensions\n",
        "        self.objective_function = objective_function\n",
        "        self.learning_rate = learning_rate\n",
        "        self.max_iterations = max_iterations\n",
        "        \n",
        "        self.global_best_position = np.random.uniform(low=-5.12, high=5.12, size=n_dimensions)\n",
        "        self.global_best_value = self.objective_function(self.global_best_position)\n",
        "        \n",
        "        self.positions = np.random.uniform(low=-5.12, high=5.12, size=(n_particles, n_dimensions))\n",
        "        self.velocities = np.zeros((n_particles, n_dimensions))\n",
        "        self.personal_best_positions = self.positions.copy()\n",
        "        self.personal_best_values = self.objective_function(self.positions.T)\n",
        "        \n",
        "    def optimize(self):\n",
        "        iteration = 0\n",
        "        best_values = []\n",
        "        \n",
        "        while iteration < self.max_iterations:\n",
        "            # Update velocity\n",
        "            cognitive_component = np.random.uniform() * (self.personal_best_positions - self.positions)\n",
        "            social_component = np.random.uniform() * (self.global_best_position - self.positions)\n",
        "            self.velocities = 0.5 * self.velocities + cognitive_component + social_component\n",
        "            \n",
        "            # Update position\n",
        "            self.positions = self.positions + self.velocities\n",
        "            \n",
        "            # Clip positions to search space\n",
        "            self.positions = np.clip(self.positions, -5.12, 5.12)\n",
        "            \n",
        "            # Update personal best positions\n",
        "            current_values = self.objective_function(self.positions.T)\n",
        "            mask = current_values < self.personal_best_values\n",
        "            self.personal_best_values[mask] = current_values[mask]\n",
        "            self.personal_best_positions[mask] = self.positions[mask]\n",
        "            \n",
        "            # Update global best position\n",
        "            mask = current_values < self.global_best_value\n",
        "            if np.any(mask):\n",
        "                self.global_best_value = np.min(current_values)\n",
        "                self.global_best_position = self.positions[np.argmin(current_values)]\n",
        "            \n",
        "            # Perform gradient-based optimization on global best position\n",
        "            gradient = self.objective_function.gradient(self.global_best_position)\n",
        "            self.global_best_position = self.global_best_position - self.learning_rate * gradient\n",
        "            \n",
        "            # Update iteration and best values\n",
        "            iteration += 1\n",
        "            best_values.append(self.global_best_value)\n",
        "        \n",
        "        return self.global_best_position, self.global_best_value, best_values\n",
        "\n",
        "# Test the algorithm with the Rastrigin function\n",
        "class Rastrigin:\n",
        "    def __init__(self, n_dimensions):\n",
        "        self.n_dimensions = n_dimensions\n",
        "        \n",
        "    def __call__(self, x):\n",
        "        return 10 * self.n_dimensions + np.sum(x**2 - 10 * np.cos(2 * np.pi * x), axis=0)\n",
        "    \n",
        "    def gradient(self, x):\n",
        "        return 2 * x + 20 * np.pi * np.sin(2 * np.pi * x)\n",
        "    \n",
        "n_particles = 50\n",
        "n_dimensions = 2\n",
        "objective_function = Rastrigin(n_dimensions)\n",
        "learning_rate = 0.005\n",
        "max_iterations = 100\n",
        "\n",
        "pso = HybridPSO(n_particles, n_dimensions, objective_function, learning_rate, max_iterations)\n",
        "best_position, best_value, best_values = pso.optimize()\n",
        "\n",
        "# Plot convergence curve\n",
        "plt.plot(best_values)\n",
        "plt.xlabel('Iteration')\n",
        "plt.ylabel('Best Value')\n",
        "plt.show()\n",
        "\n",
        "# Print results\n",
        "print('Best Position:', best_position)\n",
        "print('Best Value:', best_value)\n"
      ]
    }
  ]
}
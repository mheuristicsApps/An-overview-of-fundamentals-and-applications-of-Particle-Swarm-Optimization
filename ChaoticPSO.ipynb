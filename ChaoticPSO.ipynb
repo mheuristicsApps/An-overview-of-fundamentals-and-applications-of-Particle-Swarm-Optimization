{
  "cells": [
    {
      "cell_type": "markdown",
      "metadata": {
        "id": "view-in-github",
        "colab_type": "text"
      },
      "source": [
        "<a href=\"https://colab.research.google.com/github/mheuristicsApps/An-overview-of-fundamentals-and-applications-of-Particle-Swarm-Optimization/blob/main/ChaoticPSO.ipynb\" target=\"_parent\"><img src=\"https://colab.research.google.com/assets/colab-badge.svg\" alt=\"Open In Colab\"/></a>"
      ]
    },
    {
      "cell_type": "code",
      "source": [
        "import numpy as np\n",
        "\n",
        "# Define the Logistic Map\n",
        "def logistic_map(x, r):\n",
        "    return r * x * (1 - x)\n",
        "\n",
        "# Define the objective function\n",
        "def objective_function(x):\n",
        "    return np.sum(x**2)\n",
        "\n",
        "# Define the PSO function\n",
        "def pso(logistic_map, objective_function, num_particles, num_iterations, c1, c2, w_min, w_max, r_min, r_max):\n",
        "    # Initialize particle positions and velocities\n",
        "    particles_position = np.random.uniform(0, 1, (num_particles,))\n",
        "    particles_velocity = np.zeros_like(particles_position)\n",
        "\n",
        "    # Initialize personal and global bests\n",
        "    personal_best_position = np.copy(particles_position)\n",
        "    global_best_position = np.copy(particles_position)\n",
        "    global_best_fitness = np.inf\n",
        "\n",
        "    # Initialize chaos parameters\n",
        "    r = np.random.uniform(r_min, r_max)\n",
        "\n",
        "    for i in range(num_iterations):\n",
        "        # Update particle velocities and positions\n",
        "        w = w_max - (w_max - w_min) * i / num_iterations\n",
        "        particles_velocity = w * particles_velocity \\\n",
        "            + c1 * np.random.uniform(0, 1, (num_particles,)) * (personal_best_position - particles_position) \\\n",
        "            + c2 * np.random.uniform(0, 1, (num_particles,)) * (global_best_position - particles_position)\n",
        "        particles_position = logistic_map(particles_position, r) + particles_velocity\n",
        "\n",
        "        # Evaluate fitness\n",
        "        fitness = objective_function(particles_position)\n",
        "\n",
        "        # Update personal and global bests\n",
        "        personal_best_fitness = objective_function(personal_best_position)\n",
        "        personal_best_mask = fitness < personal_best_fitness\n",
        "        personal_best_position[personal_best_mask] = particles_position[personal_best_mask]\n",
        "        personal_best_fitness = np.where(personal_best_mask, fitness, personal_best_fitness)\n",
        "\n",
        "        global_best_mask = personal_best_fitness < global_best_fitness\n",
        "        global_best_position[global_best_mask] = personal_best_position[global_best_mask]\n",
        "        global_best_fitness = np.min(personal_best_fitness)\n",
        "\n",
        "        # Update chaos parameter\n",
        "        r = logistic_map(r, r_max)\n",
        "\n",
        "    return global_best_fitness, global_best_position\n",
        "\n",
        "# Run the PSO algorithm\n",
        "num_particles = 50\n",
        "num_iterations = 20\n",
        "c1 = 2\n",
        "c2 = 2\n",
        "w_min = 0.1\n",
        "w_max = 0.9\n",
        "r_min = 3.4569945672\n",
        "r_max = 3.9\n",
        "best_fitness, best_position = pso(logistic_map, objective_function, num_particles, num_iterations, c1, c2, w_min, w_max, r_min, r_max)\n",
        "\n",
        "# Print the result\n",
        "print(\"Best fitness:\", best_fitness)\n",
        "print(\"Best position:\", best_position)\n"
      ],
      "metadata": {
        "colab": {
          "base_uri": "https://localhost:8080/"
        },
        "id": "BsEQopKKrSCu",
        "outputId": "38d9eb7b-2faa-4b17-8b70-d51c23a5587b"
      },
      "execution_count": 13,
      "outputs": [
        {
          "output_type": "stream",
          "name": "stdout",
          "text": [
            "Best fitness: 15.181294673591745\n",
            "Best position: [0.66277709 0.87963564 0.05386243 0.9616188  0.20681221 0.70481552\n",
            " 0.88632877 0.43192916 0.27140742 0.51503095 0.70307119 0.15633877\n",
            " 0.39853267 0.59938511 0.15094558 0.92857724 0.48763632 0.8452409\n",
            " 0.36109913 0.4019321  0.36788446 0.01201608 0.07796891 0.49232213\n",
            " 0.01701575 0.3408326  0.50010893 0.45139509 0.03621985 0.07770347\n",
            " 0.20061779 0.04185308 0.42793861 0.94548379 0.46378623 0.20395915\n",
            " 0.01938084 0.74900944 0.15064236 0.20732884 0.3895933  0.15467244\n",
            " 0.24186625 0.95800277 0.97843268 0.14619644 0.95515449 0.4851076\n",
            " 0.98959863 0.89550103]\n"
          ]
        },
        {
          "output_type": "stream",
          "name": "stderr",
          "text": [
            "<ipython-input-13-6e0580f2aa7a>:5: RuntimeWarning: overflow encountered in multiply\n",
            "  return r * x * (1 - x)\n",
            "<ipython-input-13-6e0580f2aa7a>:31: RuntimeWarning: invalid value encountered in add\n",
            "  particles_position = logistic_map(particles_position, r) + particles_velocity\n"
          ]
        }
      ]
    }
  ],
  "metadata": {
    "colab": {
      "provenance": [],
      "authorship_tag": "ABX9TyO5Ds/WjD84cnpQjxr+d5+s",
      "include_colab_link": true
    },
    "kernelspec": {
      "display_name": "Python 3",
      "name": "python3"
    },
    "language_info": {
      "name": "python"
    }
  },
  "nbformat": 4,
  "nbformat_minor": 0
}
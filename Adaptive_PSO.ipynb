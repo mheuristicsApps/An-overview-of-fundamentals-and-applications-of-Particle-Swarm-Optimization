{
  "nbformat": 4,
  "nbformat_minor": 0,
  "metadata": {
    "colab": {
      "provenance": [],
      "include_colab_link": true
    },
    "kernelspec": {
      "name": "python3",
      "display_name": "Python 3"
    },
    "language_info": {
      "name": "python"
    }
  },
  "cells": [
    {
      "cell_type": "markdown",
      "metadata": {
        "id": "view-in-github",
        "colab_type": "text"
      },
      "source": [
        "<a href=\"https://colab.research.google.com/github/mheuristicsApps/An-overview-of-fundamentals-and-applications-of-Particle-Swarm-Optimization/blob/main/Adaptive_PSO.ipynb\" target=\"_parent\"><img src=\"https://colab.research.google.com/assets/colab-badge.svg\" alt=\"Open In Colab\"/></a>"
      ]
    },
    {
      "cell_type": "markdown",
      "source": [
        "Adaptive PSO "
      ],
      "metadata": {
        "id": "_Lrt13pr4pc4"
      }
    },
    {
      "cell_type": "code",
      "execution_count": 1,
      "metadata": {
        "colab": {
          "base_uri": "https://localhost:8080/",
          "height": 466
        },
        "id": "HHXMj8fHNgse",
        "outputId": "8bbccf59-d1b7-47d7-8c75-6e267435ba78"
      },
      "outputs": [
        {
          "output_type": "stream",
          "name": "stdout",
          "text": [
            "Best solution found: [-0.14253618  0.37685968] with score: 0.1623397790902839\n"
          ]
        },
        {
          "output_type": "display_data",
          "data": {
            "text/plain": [
              "<Figure size 640x480 with 1 Axes>"
            ],
            "image/png": "[encoded data removed]"
          },
          "metadata": {}
        }
      ],
      "source": [
        "import numpy as np\n",
        "import matplotlib.pyplot as plt\n",
        "\n",
        "class ObjectiveFunction:\n",
        "    def __init__(self, dim):\n",
        "        self.dim = dim\n",
        "\n",
        "    def evaluate(self, x):\n",
        "        return np.sum(x ** 2)\n",
        "\n",
        "class APSO:\n",
        "    def __init__(self, obj_fn, num_particles=50, max_iterations=1000, w=0.729, c1=1.49445, c2=1.49445, tau1=0.4, tau2=0.1):\n",
        "        self.obj_fn = obj_fn\n",
        "        self.num_particles = num_particles\n",
        "        self.max_iterations = max_iterations\n",
        "        self.w = w\n",
        "        self.c1 = c1\n",
        "        self.c2 = c2\n",
        "        self.tau1 = tau1\n",
        "        self.tau2 = tau2\n",
        "\n",
        "    def optimize(self):\n",
        "        # Initialize particles\n",
        "        swarm = np.random.uniform(-5, 5, size=(self.num_particles, self.obj_fn.dim))\n",
        "        velocity = np.zeros_like(swarm)\n",
        "        pbest_pos = swarm.copy()\n",
        "        pbest_score = np.full(self.num_particles, np.inf)\n",
        "        gbest_pos = swarm[0]\n",
        "        gbest_score = np.inf\n",
        "\n",
        "        # Main loop\n",
        "        convergence_curve = []\n",
        "        for i in range(self.max_iterations):\n",
        "            r1, r2 = np.random.rand(2, self.num_particles, self.obj_fn.dim)\n",
        "            velocity = self.w * velocity + self.c1 * r1 * (pbest_pos - swarm) + self.c2 * r2 * (gbest_pos - swarm)\n",
        "            swarm = swarm + velocity\n",
        "\n",
        "            # Enforce bounds\n",
        "            swarm = np.clip(swarm, -5, 5)\n",
        "\n",
        "            # Evaluate fitness\n",
        "            scores = np.apply_along_axis(self.obj_fn.evaluate, 1, swarm)\n",
        "\n",
        "            # Update personal best\n",
        "            improved = scores < pbest_score\n",
        "            pbest_score[improved] = scores[improved]\n",
        "            pbest_pos[improved] = swarm[improved]\n",
        "\n",
        "            # Update global best\n",
        "            best_idx = np.argmin(pbest_score)\n",
        "            if pbest_score[best_idx] < gbest_score:\n",
        "                gbest_score = pbest_score[best_idx]\n",
        "                gbest_pos = pbest_pos[best_idx]\n",
        "\n",
        "            # Update parameters\n",
        "            self.w *= self.tau1\n",
        "            self.c1 *= self.tau2\n",
        "            self.c2 *= self.tau2\n",
        "\n",
        "            convergence_curve.append(gbest_score)\n",
        "\n",
        "        return gbest_pos, gbest_score, convergence_curve\n",
        "\n",
        "if __name__ == '__main__':\n",
        "    obj_fn = ObjectiveFunction(dim=2)\n",
        "    apso = APSO(obj_fn)\n",
        "    best_pos, best_score, convergence = apso.optimize()\n",
        "    print(f\"Best solution found: {best_pos} with score: {best_score}\")\n",
        "\n",
        "    plt.plot(convergence)\n",
        "    plt.xlabel('Iteration')\n",
        "    plt.ylabel('Fitness')\n",
        "    plt.show()"
      ]
    }
  ]
}
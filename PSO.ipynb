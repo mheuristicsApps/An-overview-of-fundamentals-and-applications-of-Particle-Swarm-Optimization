{
  "nbformat": 4,
  "nbformat_minor": 0,
  "metadata": {
    "colab": {
      "provenance": [],
      "authorship_tag": "ABX9TyN6Ae9Wps/ht79rzDcjwDqk",
      "include_colab_link": true
    },
    "kernelspec": {
      "name": "python3",
      "display_name": "Python 3"
    },
    "language_info": {
      "name": "python"
    }
  },
  "cells": [
    {
      "cell_type": "markdown",
      "metadata": {
        "id": "view-in-github",
        "colab_type": "text"
      },
      "source": [
        "<a href=\"https://colab.research.google.com/github/mheuristicsApps/An-overview-of-fundamentals-and-applications-of-Particle-Swarm-Optimization/blob/main/PSO.ipynb\" target=\"_parent\"><img src=\"https://colab.research.google.com/assets/colab-badge.svg\" alt=\"Open In Colab\"/></a>"
      ]
    },
    {
      "cell_type": "markdown",
      "source": [
        "Basic Version of PSO in Python 3.x"
      ],
      "metadata": {
        "id": "Bc2wzDrh4Qkt"
      }
    },
    {
      "cell_type": "code",
      "execution_count": null,
      "metadata": {
        "colab": {
          "base_uri": "https://localhost:8080/"
        },
        "id": "2slnhJTolueD",
        "outputId": "4e25ff37-3618-463a-c836-53fd69a41eed"
      },
      "outputs": [
        {
          "output_type": "stream",
          "name": "stdout",
          "text": [
            "Best position: [-0.00158747 -0.0014043 ]\n",
            "Best fitness: 4.492108286529849e-06\n"
          ]
        }
      ],
      "source": [
        "import numpy as np\n",
        "\n",
        "def sphere_function(x):\n",
        "    return np.sum(x**2)\n",
        "\n",
        "class Particle:\n",
        "    def __init__(self, dim, max_vel, bounds):\n",
        "        self.position = np.random.uniform(bounds[0], bounds[1], dim)\n",
        "        self.velocity = np.random.uniform(-max_vel, max_vel, dim)\n",
        "        self.best_position = self.position.copy()\n",
        "        self.best_fitness = float('inf')\n",
        "        self.fitness = float('inf')\n",
        "\n",
        "    def update_velocity(self, w, c1, c2, global_best_position):\n",
        "        r1 = np.random.uniform(size=self.position.shape)\n",
        "        r2 = np.random.uniform(size=self.position.shape)\n",
        "        self.velocity = w * self.velocity + c1 * r1 * \\\n",
        "        (self.best_position - self.position) + c2 * r2 * (global_best_position - self.position)\n",
        "\n",
        "    def update_position(self, bounds):\n",
        "        self.position = np.clip(self.position + self.velocity, bounds[0], bounds[1])\n",
        "\n",
        "class PSO:\n",
        "    def __init__(self, objective_function, num_particles, dim, max_iter, max_vel, bounds, w=0.872, c1=1.49445, c2=1.49445):\n",
        "        self.objective_function = objective_function\n",
        "        self.num_particles = num_particles\n",
        "        self.dim = dim\n",
        "        self.max_iter = max_iter\n",
        "        self.max_vel = max_vel\n",
        "        self.bounds = bounds\n",
        "        self.w = w\n",
        "        self.c1 = c1\n",
        "        self.c2 = c2\n",
        "\n",
        "    def optimize(self):\n",
        "        swarm = [Particle(self.dim, self.max_vel, self.bounds) for i in range(self.num_particles)]\n",
        "        global_best_position = None\n",
        "        global_best_fitness = float('inf')\n",
        "\n",
        "        for i in range(self.max_iter):\n",
        "            for particle in swarm:\n",
        "                particle.fitness = self.objective_function(particle.position)\n",
        "                if particle.fitness < particle.best_fitness:\n",
        "                    particle.best_fitness = particle.fitness\n",
        "                    particle.best_position = particle.position.copy()\n",
        "\n",
        "                if particle.fitness < global_best_fitness:\n",
        "                    global_best_fitness = particle.fitness\n",
        "                    global_best_position = particle.position.copy()\n",
        "\n",
        "            for particle in swarm:\n",
        "                particle.update_velocity(self.w, self.c1, self.c2, global_best_position)\n",
        "                particle.update_position(self.bounds)\n",
        "\n",
        "        return global_best_position, global_best_fitness\n",
        "pso = PSO(sphere_function, num_particles=50, dim=2, max_iter=100, max_vel=0.5, bounds=(-5.12, 5.12))\n",
        "best_position, best_fitness = pso.optimize()\n",
        "print(f'Best position: {best_position}')\n",
        "print(f'Best fitness: {best_fitness}')"
      ]
    }
  ]
}
{
  "nbformat": 4,
  "nbformat_minor": 0,
  "metadata": {
    "colab": {
      "provenance": [],
      "authorship_tag": "ABX9TyMvSlvjE+VyV0/cSnQBdu4/",
      "include_colab_link": true
    },
    "kernelspec": {
      "name": "python3",
      "display_name": "Python 3"
    },
    "language_info": {
      "name": "python"
    }
  },
  "cells": [
    {
      "cell_type": "markdown",
      "metadata": {
        "id": "view-in-github",
        "colab_type": "text"
      },
      "source": [
        "<a href=\"https://colab.research.google.com/github/mheuristicsApps/An-overview-of-fundamentals-and-applications-of-Particle-Swarm-Optimization/blob/main/QPSO.ipynb\" target=\"_parent\"><img src=\"https://colab.research.google.com/assets/colab-badge.svg\" alt=\"Open In Colab\"/></a>"
      ]
    },
    {
      "cell_type": "markdown",
      "source": [
        "Quantum PSO"
      ],
      "metadata": {
        "id": "UuGQqcof-liV"
      }
    },
    {
      "cell_type": "code",
      "execution_count": 12,
      "metadata": {
        "id": "EQJdFn6A6Jl3",
        "colab": {
          "base_uri": "https://localhost:8080/",
          "height": 621
        },
        "outputId": "7ea9b2d3-f58a-4fb9-85ee-499fac660b7a"
      },
      "outputs": [
        {
          "output_type": "stream",
          "name": "stderr",
          "text": [
            "<ipython-input-12-1716ff0e83d0>:84: RuntimeWarning: overflow encountered in square\n",
            "  return np.sum(x**2)\n",
            "<ipython-input-12-1716ff0e83d0>:44: RuntimeWarning: overflow encountered in multiply\n",
            "  L=(1/self.best_global_position)*abs(particle.position-c)\n",
            "<ipython-input-12-1716ff0e83d0>:50: RuntimeWarning: overflow encountered in multiply\n",
            "  particle.position = c+(rand_sign*L)*np.log(1./u3)\n"
          ]
        },
        {
          "output_type": "stream",
          "name": "stdout",
          "text": [
            "Best position: [ 0.96088858  0.61456951 -0.03117627  0.9546557  -2.02582877 -0.01171907\n",
            "  1.33130659 -1.74567959  0.71292945 -0.75145439]\n",
            "Best fitness: 12.210188146021833\n"
          ]
        },
        {
          "output_type": "display_data",
          "data": {
            "text/plain": [
              "<Figure size 640x480 with 1 Axes>"
            ],
            "image/png": "[encoded data removed]"
          },
          "metadata": {}
        }
      ],
      "source": [
        "import numpy as np\n",
        "import matplotlib.pyplot as plt\n",
        "import random\n",
        "\n",
        "class QuantumPSO:\n",
        "    def __init__(self, objective_function, num_particles=50, max_iterations=1000, c1=1.5, c2=1.5, quantum_factor=0.002):\n",
        "        self.objective_function = objective_function\n",
        "        self.num_particles = num_particles\n",
        "        self.max_iterations = max_iterations\n",
        "        self.c1 = c1\n",
        "        self.c2 = c2\n",
        "        self.quantum_factor = quantum_factor\n",
        "        self.best_global_position = None\n",
        "        self.best_global_fitness = np.inf\n",
        "        self.particles = []\n",
        "        self.convergence_curve = []\n",
        "        \n",
        "    def optimize(self):\n",
        "        # Initialize particles\n",
        "        for i in range(self.num_particles):\n",
        "            particle = Particle()\n",
        "            particle.position = np.random.uniform(-5, 5, size=self.objective_function.num_dimensions)\n",
        "            particle.best_position = particle.position\n",
        "            particle.fitness = self.objective_function.evaluate(particle.position)\n",
        "            particle.best_fitness = particle.fitness\n",
        "            self.particles.append(particle)\n",
        "            if particle.fitness < self.best_global_fitness:\n",
        "                self.best_global_fitness = particle.fitness\n",
        "                self.best_global_position = particle.position\n",
        "        \n",
        "        # Main loop\n",
        "        for iteration in range(self.max_iterations):\n",
        "            for particle in self.particles:\n",
        "                # Update velocity\n",
        "                                \n",
        "                rand_sign = 1 if random.random() > 0.5 else -1\n",
        "                \n",
        "                u1 = np.random.rand()\n",
        "                u2 = np.random.rand()\n",
        "                u3 = np.random.rand()\n",
        "                \n",
        "                c=(u1*particle.best_position + u2*self.best_global_position)/(u1+u2)\n",
        "                #print(\"c\",c)\n",
        "                L=(1/self.best_global_position)*abs(particle.position-c)               \n",
        "                #print(\"L      \",L)\n",
        "                \n",
        "                \n",
        "\n",
        "                # Update position\n",
        "                particle.position = c+(rand_sign*L)*np.log(1./u3)\n",
        "                \n",
        "                # Evaluate fitness\n",
        "                particle.fitness = self.objective_function.evaluate(particle.position)\n",
        "                \n",
        "                # Update personal best\n",
        "                if particle.fitness < particle.best_fitness:\n",
        "                    particle.best_fitness = particle.fitness\n",
        "                    particle.best_position = particle.position\n",
        "                \n",
        "                # Update global best\n",
        "                if particle.fitness < self.best_global_fitness:\n",
        "                    self.best_global_fitness = particle.fitness\n",
        "                    self.best_global_position = particle.position\n",
        "            \n",
        "            # Update convergence curve\n",
        "            self.convergence_curve.append(self.best_global_fitness)\n",
        "        \n",
        "        return self.best_global_position, self.best_global_fitness\n",
        "    \n",
        "class Particle:\n",
        "    def __init__(self):\n",
        "        self.position = None\n",
        "        self.velocity = None\n",
        "        self.best_position = None\n",
        "        self.fitness = None\n",
        "        self.best_fitness = np.inf\n",
        "\n",
        "class ObjectiveFunction:\n",
        "    def __init__(self, num_dimensions):\n",
        "        self.num_dimensions = num_dimensions\n",
        "    \n",
        "    def evaluate(self, x):\n",
        "        # TODO: Implement objective function\n",
        "        return np.sum(x**2)\n",
        "\n",
        "def main():\n",
        "    # Define objective function\n",
        "    objective_function = ObjectiveFunction(num_dimensions=10)\n",
        "    \n",
        "    # Define Quantum PSO\n",
        "    num_particles = 50\n",
        "    max_iterations = 1000\n",
        "    c1 = 1.5\n",
        "    c2 = 1.5\n",
        "    quantum_factor = 0.5\n",
        "    quantum_pso = QuantumPSO(objective_function, num_particles, max_iterations, c1, c2, quantum_factor)\n",
        "    \n",
        "    # Run optimization\n",
        "    best_position, best_fitness = quantum_pso.optimize()\n",
        "    \n",
        "    # Print results\n",
        "    print(\"Best position:\", best_position)\n",
        "    print(\"Best fitness:\", best_fitness)\n",
        "    \n",
        "    # Plot convergence curve\n",
        "    plt.plot(quantum_pso.convergence_curve)\n",
        "    plt.xlabel(\"Iteration\")\n",
        "    plt.ylabel\n",
        "\n",
        "main()\n"
      ]
    }
  ]
}